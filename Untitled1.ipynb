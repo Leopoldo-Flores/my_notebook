{
 "cells": [
  {
   "cell_type": "code",
   "execution_count": 11,
   "id": "ce73b411",
   "metadata": {},
   "outputs": [],
   "source": [
    "class Queue:\n",
    "    def __init__(self):\n",
    "        self.items = []\n",
    "    def is_empty(self):\n",
    "        return self.items == []\n",
    "    def dequeue(self):\n",
    "        return self.items.pop()\n",
    "    def size(self):\n",
    "        return len(self.items)\n",
    "    def enqueue(self, item):\n",
    "        self.items.insert(0,item)\n",
    "        "
   ]
  },
  {
   "cell_type": "code",
   "execution_count": 49,
   "id": "62c6bb4e",
   "metadata": {},
   "outputs": [],
   "source": [
    "from string import ascii_lowercase\n",
    "from random import randint, choice\n",
    "from time import sleep\n",
    "\n",
    "def register_visitor(visitor_queue):\n",
    "    for char in ascii_lowercase:\n",
    "        visitor_queue.enqueue(char)\n",
    "        \n",
    "def service_customer(visitor_queue):\n",
    "    bank_tellers = [\"A\", \"B\", \"C\", \"D\", \"E\", \"F\", \"G\"]\n",
    "    while not visitor_queue.is_empty():\n",
    "        visitor = visitor_queue.dequeue()\n",
    "        print(\"Thank you for waiting %s, station %s is ready for you.\"\n",
    "                 % (visitor, choice(bank_tellers)))\n",
    "        sleep(randint(1, 2))\n",
    "        print(\"Empty visior queue.\")\n",
    "        \n",
    "def main():\n",
    "    visitor_queue = Queue()\n",
    "    register_visitor(visitor_queue)\n",
    "    service_customer(visitor_queue)"
   ]
  },
  {
   "cell_type": "code",
   "execution_count": 51,
   "id": "2602d487",
   "metadata": {},
   "outputs": [
    {
     "name": "stdout",
     "output_type": "stream",
     "text": [
      "Thank you for waiting a, station F is ready for you.\n",
      "Empty visior queue.\n",
      "Thank you for waiting b, station B is ready for you.\n",
      "Empty visior queue.\n",
      "Thank you for waiting c, station D is ready for you.\n",
      "Empty visior queue.\n",
      "Thank you for waiting d, station C is ready for you.\n",
      "Empty visior queue.\n",
      "Thank you for waiting e, station E is ready for you.\n",
      "Empty visior queue.\n",
      "Thank you for waiting f, station B is ready for you.\n",
      "Empty visior queue.\n",
      "Thank you for waiting g, station D is ready for you.\n",
      "Empty visior queue.\n",
      "Thank you for waiting h, station C is ready for you.\n",
      "Empty visior queue.\n",
      "Thank you for waiting i, station A is ready for you.\n",
      "Empty visior queue.\n",
      "Thank you for waiting j, station G is ready for you.\n",
      "Empty visior queue.\n",
      "Thank you for waiting k, station C is ready for you.\n",
      "Empty visior queue.\n",
      "Thank you for waiting l, station F is ready for you.\n",
      "Empty visior queue.\n",
      "Thank you for waiting m, station C is ready for you.\n",
      "Empty visior queue.\n",
      "Thank you for waiting n, station E is ready for you.\n",
      "Empty visior queue.\n",
      "Thank you for waiting o, station D is ready for you.\n",
      "Empty visior queue.\n",
      "Thank you for waiting p, station B is ready for you.\n",
      "Empty visior queue.\n",
      "Thank you for waiting q, station F is ready for you.\n",
      "Empty visior queue.\n",
      "Thank you for waiting r, station A is ready for you.\n",
      "Empty visior queue.\n",
      "Thank you for waiting s, station E is ready for you.\n",
      "Empty visior queue.\n",
      "Thank you for waiting t, station D is ready for you.\n",
      "Empty visior queue.\n",
      "Thank you for waiting u, station G is ready for you.\n",
      "Empty visior queue.\n",
      "Thank you for waiting v, station C is ready for you.\n",
      "Empty visior queue.\n",
      "Thank you for waiting w, station G is ready for you.\n",
      "Empty visior queue.\n",
      "Thank you for waiting x, station G is ready for you.\n",
      "Empty visior queue.\n",
      "Thank you for waiting y, station E is ready for you.\n",
      "Empty visior queue.\n",
      "Thank you for waiting z, station B is ready for you.\n",
      "Empty visior queue.\n"
     ]
    }
   ],
   "source": [
    "main()"
   ]
  },
  {
   "cell_type": "code",
   "execution_count": null,
   "id": "434eb738",
   "metadata": {},
   "outputs": [],
   "source": [
    "##Given a string of opening and closing paranthesis, check whether its balanced. We have 3 types of parentheses:round brackets:\n",
    "()"
   ]
  },
  {
   "cell_type": "code",
   "execution_count": 53,
   "id": "c1e84bfa",
   "metadata": {},
   "outputs": [],
   "source": [
    "def balance_check(s):\n",
    "    if len(s) % 2 !=0:\n",
    "        return False\n",
    "    opening = set(\"([{\")\n",
    "    matches = set([(\"(,\" \")\"), (\"[\", \"]\"), (\"{\", \"}\")])\n",
    "    stack = Stack()\n",
    "    for paren in s:\n",
    "        if paran in opening:\n",
    "            stack.push(paren)\n",
    "        else:\n",
    "            if stack.is_empty():\n",
    "                return False\n",
    "            last_open = stack.pop()\n",
    "            if (last_open, paren) not in matches:\n",
    "                return False\n",
    "    return stack.is_empty()\n"
   ]
  },
  {
   "cell_type": "code",
   "execution_count": 15,
   "id": "f5b1c832",
   "metadata": {},
   "outputs": [],
   "source": [
    "class Queue2Stacks:\n",
    "    def __init__(self):\n",
    "        # Two stacks\n",
    "        self.stack1 = []\n",
    "        self.stack2 = []\n",
    "        \n",
    "    def enqueue(self, element):  # Insert data into stack one\n",
    "        self.stack1.append(element)\n",
    "    \n",
    "    def dequeue(self):    # Pop data from stack one into stack 2\n",
    "        while self.stack1:\n",
    "            self.stack2.append(self.stack1.pop())\n",
    "        return self.stack2.pop()                \n"
   ]
  },
  {
   "cell_type": "code",
   "execution_count": 16,
   "id": "5cec6824",
   "metadata": {},
   "outputs": [],
   "source": [
    "def test():\n",
    "    q = Queue2Stacks()\n",
    "    for i in range(5):\n",
    "        q.enqueue(i)\n",
    "    for i in range(5):\n",
    "        print(q.dequeue())"
   ]
  },
  {
   "cell_type": "code",
   "execution_count": 17,
   "id": "56be1f71",
   "metadata": {},
   "outputs": [
    {
     "name": "stdout",
     "output_type": "stream",
     "text": [
      "0\n",
      "1\n",
      "2\n",
      "3\n",
      "4\n"
     ]
    }
   ],
   "source": [
    "test()"
   ]
  },
  {
   "cell_type": "code",
   "execution_count": 18,
   "id": "d0fb85c3",
   "metadata": {},
   "outputs": [],
   "source": [
    "def fact(n):\n",
    "    if n == 0:\n",
    "        return 1\n",
    "    return n*fact(n-1)"
   ]
  },
  {
   "cell_type": "code",
   "execution_count": 24,
   "id": "37df5c24",
   "metadata": {},
   "outputs": [
    {
     "data": {
      "text/plain": [
       "3628800"
      ]
     },
     "execution_count": 24,
     "metadata": {},
     "output_type": "execute_result"
    }
   ],
   "source": [
    "fact(10)"
   ]
  },
  {
   "cell_type": "code",
   "execution_count": 25,
   "id": "0d36353d",
   "metadata": {},
   "outputs": [],
   "source": [
    "from functools import lru_cache\n",
    "\n",
    "@lru_cache\n",
    "def fib(n):\n",
    "    if n < 2:   # base case\n",
    "        return n\n",
    "    return fib(n-1) + fib(n-2)"
   ]
  },
  {
   "cell_type": "code",
   "execution_count": 32,
   "id": "ac63b010",
   "metadata": {},
   "outputs": [
    {
     "data": {
      "text/plain": [
       "13"
      ]
     },
     "execution_count": 32,
     "metadata": {},
     "output_type": "execute_result"
    }
   ],
   "source": [
    "fib(7)"
   ]
  },
  {
   "cell_type": "code",
   "execution_count": 33,
   "id": "cd48a18c",
   "metadata": {},
   "outputs": [],
   "source": [
    "class Node:\n",
    "    def __init__(self, data):\n",
    "        self.data = data\n",
    "        self.next = None"
   ]
  },
  {
   "cell_type": "code",
   "execution_count": 37,
   "id": "80253031",
   "metadata": {},
   "outputs": [
    {
     "name": "stdout",
     "output_type": "stream",
     "text": [
      "1\n",
      "2\n",
      "3\n",
      "4\n",
      "5\n"
     ]
    }
   ],
   "source": [
    "mylist = [1, 2, 3, 4, 5]\n",
    "\n",
    "head = None\n",
    "\n",
    "for number in mylist:\n",
    "    if head == None:\n",
    "        head = Node(number)\n",
    "        continue\n",
    "    current = head\n",
    "    while current.next != None:\n",
    "        current = current.next\n",
    "    current.next = Node(number)\n",
    "\n",
    "current = head\n",
    "while current != None:\n",
    "    print(current.data)\n",
    "    current = current.next"
   ]
  },
  {
   "cell_type": "code",
   "execution_count": null,
   "id": "024973d6",
   "metadata": {},
   "outputs": [],
   "source": []
  }
 ],
 "metadata": {
  "kernelspec": {
   "display_name": "Python 3 (ipykernel)",
   "language": "python",
   "name": "python3"
  },
  "language_info": {
   "codemirror_mode": {
    "name": "ipython",
    "version": 3
   },
   "file_extension": ".py",
   "mimetype": "text/x-python",
   "name": "python",
   "nbconvert_exporter": "python",
   "pygments_lexer": "ipython3",
   "version": "3.8.10"
  }
 },
 "nbformat": 4,
 "nbformat_minor": 5
}
