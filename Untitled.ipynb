{
 "cells": [
  {
   "cell_type": "markdown",
   "id": "8ab9f535",
   "metadata": {},
   "source": [
    "# Problem\n",
    "### Given two strings (string_a and string_b) let's check wether or not they areanagrams of each other given the following criteria:\n",
    ">Two strings are only anagrams of each other if all conditions below are met:\n",
    ">\n",
    ">They must be exactly the same length.\n",
    ">\n",
    ">They must use exactly the same characters (no more, no less). Example : cars and scar, heart and earth, ect."
   ]
  },
  {
   "cell_type": "code",
   "execution_count": 72,
   "id": "4225d282",
   "metadata": {},
   "outputs": [],
   "source": [
    "def is_anagram(string_a, string_b):\n",
    "    if len(string_a) != len(string_b):\n",
    "        return False\n",
    "    char_times_a = dict()\n",
    "    char_times_b = dict()\n",
    "    for i in range(len(string_a)):\n",
    "        if string_a[i] not in char_times_a.keys():\n",
    "            char_times_a[string_a[i]] = 0\n",
    "        else:\n",
    "            char_times_a[string_a[i]] += 1\n",
    "        if string_b[i] not in char_times_b.keys():\n",
    "            char_times_b[string_b[i]] = 0\n",
    "        else: \n",
    "            char_times_b[string_b[i]] += 1\n",
    "    return char_times_a == char_times_b"
   ]
  },
  {
   "cell_type": "code",
   "execution_count": 73,
   "id": "3e8cbcc5",
   "metadata": {},
   "outputs": [],
   "source": [
    "class Stack:\n",
    "    def __init__(self):\n",
    "        self.items = []\n",
    "        \n",
    "    def is_empty(self):\n",
    "        return self.items == []\n",
    "    \n",
    "    def push(self, item):\n",
    "        self.items.append(item)\n",
    "        \n",
    "    def pop(self):\n",
    "        return self.items.pop()\n",
    "    \n",
    "    def peek(self):\n",
    "        return self.items[len(self.items)-1]\n",
    "    \n",
    "    def size(self):\n",
    "        return len(self.items)\n",
    "    \n",
    "    "
   ]
  },
  {
   "cell_type": "code",
   "execution_count": 74,
   "id": "921daef8",
   "metadata": {},
   "outputs": [],
   "source": [
    "def reverse_str(s):\n",
    "    out = \"\"\n",
    "    stack = Stack()\n",
    "    for letter in s:\n",
    "        stack.push(letter)\n",
    "    while not stack.is_empty():\n",
    "         out += stack.pop()\n",
    "    return out"
   ]
  },
  {
   "cell_type": "code",
   "execution_count": 75,
   "id": "0d843027",
   "metadata": {},
   "outputs": [],
   "source": [
    "def pallindrome(string):\n",
    "    string = string.lower()\n",
    "    return string == reverse_str(string)"
   ]
  },
  {
   "cell_type": "code",
   "execution_count": 76,
   "id": "1aca6032",
   "metadata": {},
   "outputs": [
    {
     "name": "stdout",
     "output_type": "stream",
     "text": [
      "leopoldoflores\n"
     ]
    }
   ],
   "source": [
    "x = \"Leopoldo Flores\"\n",
    "y=(x.replace(\" \",\"\")).lower()\n",
    "print(y)"
   ]
  },
  {
   "cell_type": "code",
   "execution_count": 84,
   "id": "b288f55a",
   "metadata": {},
   "outputs": [],
   "source": [
    "urls = [\"www.google.com\", \"twitter.com\", \"facebook.com\", \n",
    "    \"duckduckgo.com\", \"sdgku.edu\", \"something.com\",\n",
    "    \"example.com\", \"mywebpage.com\", \"gmail.com\", \"hotmail.com\"]"
   ]
  },
  {
   "cell_type": "code",
   "execution_count": 91,
   "id": "225b5e2a",
   "metadata": {},
   "outputs": [],
   "source": [
    "def back_button(list_of_urls):\n",
    "    stack = Stack()\n",
    "    user_input = \"yes\"\n",
    "    for url in list_of_urls:\n",
    "        stack.push(url)\n",
    "    while user_input != \"no\" and not stack.is_empty():\n",
    "            user_input == input(\"Do you want to go to your previous URL?\") \n",
    "            if user_input == \"yes\" and not stack.is_empty():\n",
    "                print(\"Last url: %s\" % stack.pop())\n",
    "            if stack.is_empty():\n",
    "                print(\"No more elements in stack!\")"
   ]
  },
  {
   "cell_type": "code",
   "execution_count": null,
   "id": "0ddcd835",
   "metadata": {},
   "outputs": [
    {
     "name": "stdout",
     "output_type": "stream",
     "text": [
      "Do you want to go to your previous URL?yes\n",
      "Last url: hotmail.com\n",
      "Do you want to go to your previous URL?yes\n",
      "Last url: gmail.com\n",
      "Do you want to go to your previous URL?yes\n",
      "Last url: mywebpage.com\n",
      "Do you want to go to your previous URL?yes\n",
      "Last url: example.com\n"
     ]
    }
   ],
   "source": [
    "back_button(urls)"
   ]
  },
  {
   "cell_type": "code",
   "execution_count": null,
   "id": "986a2685",
   "metadata": {},
   "outputs": [],
   "source": []
  }
 ],
 "metadata": {
  "kernelspec": {
   "display_name": "Python 3 (ipykernel)",
   "language": "python",
   "name": "python3"
  },
  "language_info": {
   "codemirror_mode": {
    "name": "ipython",
    "version": 3
   },
   "file_extension": ".py",
   "mimetype": "text/x-python",
   "name": "python",
   "nbconvert_exporter": "python",
   "pygments_lexer": "ipython3",
   "version": "3.8.10"
  }
 },
 "nbformat": 4,
 "nbformat_minor": 5
}
