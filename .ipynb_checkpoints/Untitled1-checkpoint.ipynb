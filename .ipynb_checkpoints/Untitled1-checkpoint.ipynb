{
 "cells": [
  {
   "cell_type": "code",
   "execution_count": 45,
   "id": "ce73b411",
   "metadata": {},
   "outputs": [],
   "source": [
    "class Queue:\n",
    "    def __init__(self):\n",
    "        self.items = []\n",
    "    def is_empty(self):\n",
    "        return self.items == []\n",
    "    def dequeue(self):\n",
    "        return self.items.pop()\n",
    "    def size(self):\n",
    "        return len(self.items)\n",
    "    def enqueue(self, item):\n",
    "        self.items.insert(0,item)\n",
    "        "
   ]
  },
  {
   "cell_type": "code",
   "execution_count": 49,
   "id": "62c6bb4e",
   "metadata": {},
   "outputs": [],
   "source": [
    "from string import ascii_lowercase\n",
    "from random import randint, choice\n",
    "from time import sleep\n",
    "\n",
    "def register_visitor(visitor_queue):\n",
    "    for char in ascii_lowercase:\n",
    "        visitor_queue.enqueue(char)\n",
    "        \n",
    "def service_customer(visitor_queue):\n",
    "    bank_tellers = [\"A\", \"B\", \"C\", \"D\", \"E\", \"F\", \"G\"]\n",
    "    while not visitor_queue.is_empty():\n",
    "        visitor = visitor_queue.dequeue()\n",
    "        print(\"Thank you for waiting %s, station %s is ready for you.\"\n",
    "                 % (visitor, choice(bank_tellers)))\n",
    "        sleep(randint(1, 2))\n",
    "        print(\"Empty visior queue.\")\n",
    "        \n",
    "def main():\n",
    "    visitor_queue = Queue()\n",
    "    register_visitor(visitor_queue)\n",
    "    service_customer(visitor_queue)"
   ]
  },
  {
   "cell_type": "code",
   "execution_count": 51,
   "id": "2602d487",
   "metadata": {},
   "outputs": [
    {
     "name": "stdout",
     "output_type": "stream",
     "text": [
      "Thank you for waiting a, station F is ready for you.\n",
      "Empty visior queue.\n",
      "Thank you for waiting b, station B is ready for you.\n",
      "Empty visior queue.\n",
      "Thank you for waiting c, station D is ready for you.\n",
      "Empty visior queue.\n",
      "Thank you for waiting d, station C is ready for you.\n",
      "Empty visior queue.\n",
      "Thank you for waiting e, station E is ready for you.\n",
      "Empty visior queue.\n",
      "Thank you for waiting f, station B is ready for you.\n",
      "Empty visior queue.\n",
      "Thank you for waiting g, station D is ready for you.\n",
      "Empty visior queue.\n",
      "Thank you for waiting h, station C is ready for you.\n",
      "Empty visior queue.\n",
      "Thank you for waiting i, station A is ready for you.\n",
      "Empty visior queue.\n",
      "Thank you for waiting j, station G is ready for you.\n",
      "Empty visior queue.\n",
      "Thank you for waiting k, station C is ready for you.\n",
      "Empty visior queue.\n",
      "Thank you for waiting l, station F is ready for you.\n",
      "Empty visior queue.\n",
      "Thank you for waiting m, station C is ready for you.\n",
      "Empty visior queue.\n",
      "Thank you for waiting n, station E is ready for you.\n",
      "Empty visior queue.\n",
      "Thank you for waiting o, station D is ready for you.\n",
      "Empty visior queue.\n",
      "Thank you for waiting p, station B is ready for you.\n",
      "Empty visior queue.\n",
      "Thank you for waiting q, station F is ready for you.\n",
      "Empty visior queue.\n",
      "Thank you for waiting r, station A is ready for you.\n",
      "Empty visior queue.\n",
      "Thank you for waiting s, station E is ready for you.\n",
      "Empty visior queue.\n",
      "Thank you for waiting t, station D is ready for you.\n",
      "Empty visior queue.\n",
      "Thank you for waiting u, station G is ready for you.\n",
      "Empty visior queue.\n",
      "Thank you for waiting v, station C is ready for you.\n",
      "Empty visior queue.\n",
      "Thank you for waiting w, station G is ready for you.\n",
      "Empty visior queue.\n",
      "Thank you for waiting x, station G is ready for you.\n",
      "Empty visior queue.\n",
      "Thank you for waiting y, station E is ready for you.\n",
      "Empty visior queue.\n",
      "Thank you for waiting z, station B is ready for you.\n",
      "Empty visior queue.\n"
     ]
    }
   ],
   "source": [
    "main()"
   ]
  },
  {
   "cell_type": "code",
   "execution_count": null,
   "id": "434eb738",
   "metadata": {},
   "outputs": [],
   "source": [
    "##Given a string of opening and closing paranthesis, check whether its balanced. We have 3 types of parentheses:round brackets:\n",
    "()"
   ]
  },
  {
   "cell_type": "code",
   "execution_count": 53,
   "id": "c1e84bfa",
   "metadata": {},
   "outputs": [],
   "source": [
    "def balance_check(s):\n",
    "    if len(s) % 2 !=0:\n",
    "        return False\n",
    "    opening = set(\"([{\")\n",
    "    matches = set([(\"(,\" \")\"), (\"[\", \"]\"), (\"{\", \"}\")])\n",
    "    stack = Stack()\n",
    "    for paren in s:\n",
    "        if paran in opening:\n",
    "            stack.push(paren)\n",
    "        else:\n",
    "            if stack.is_empty():\n",
    "                return False\n",
    "            last_open = stack.pop()\n",
    "            if (last_open, paren) not in matches:\n",
    "                return False\n",
    "    return stack.is_empty()\n"
   ]
  },
  {
   "cell_type": "code",
   "execution_count": 2,
   "id": "f5b1c832",
   "metadata": {},
   "outputs": [],
   "source": [
    "class Queue2Stacks:\n",
    "    def __init__(self):\n",
    "        # Two stacks\n",
    "        self.stack1 = []\n",
    "        self.stack2 = []\n",
    "        \n",
    "    def enqueue(self, element):\n",
    "        for self.stack\n",
    "        pass\n",
    "    \n",
    "    def dequeue(self):\n",
    "        # FILL OUT CODE HERE\n",
    "        pass\n",
    "\n",
    "def test():\n",
    "    \"\"\"This should print: 0, 1, 2, 3 ,\"\"\""
   ]
  },
  {
   "cell_type": "code",
   "execution_count": null,
   "id": "f312ef81",
   "metadata": {},
   "outputs": [],
   "source": []
  }
 ],
 "metadata": {
  "kernelspec": {
   "display_name": "Python 3 (ipykernel)",
   "language": "python",
   "name": "python3"
  },
  "language_info": {
   "codemirror_mode": {
    "name": "ipython",
    "version": 3
   },
   "file_extension": ".py",
   "mimetype": "text/x-python",
   "name": "python",
   "nbconvert_exporter": "python",
   "pygments_lexer": "ipython3",
   "version": "3.8.10"
  }
 },
 "nbformat": 4,
 "nbformat_minor": 5
}
